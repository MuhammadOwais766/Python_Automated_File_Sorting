{
 "cells": [
  {
   "cell_type": "markdown",
   "id": "50b1217e",
   "metadata": {},
   "source": [
    "# Automatic File Sorting in File Explorer"
   ]
  },
  {
   "cell_type": "code",
   "execution_count": 16,
   "id": "56604a0c",
   "metadata": {},
   "outputs": [],
   "source": [
    "import os, shutil"
   ]
  },
  {
   "cell_type": "code",
   "execution_count": 17,
   "id": "a9b3833d",
   "metadata": {},
   "outputs": [],
   "source": [
    "path = r\"C:/Users/LENOVO/Downloads/Python auto sorting/\""
   ]
  },
  {
   "cell_type": "code",
   "execution_count": 18,
   "id": "05ee7c53",
   "metadata": {},
   "outputs": [],
   "source": [
    "file_name = os.listdir(path)"
   ]
  },
  {
   "cell_type": "code",
   "execution_count": 19,
   "id": "07076a39",
   "metadata": {},
   "outputs": [
    {
     "name": "stdout",
     "output_type": "stream",
     "text": [
      "C:/Users/LENOVO/Downloads/Python auto sorting/csv files\n",
      "C:/Users/LENOVO/Downloads/Python auto sorting/image files\n",
      "C:/Users/LENOVO/Downloads/Python auto sorting/text files\n"
     ]
    }
   ],
   "source": [
    "folder_names = ['csv files', 'image files', 'text files']\n",
    "\n",
    "for loop in range(0,3):\n",
    "    if not os.path.exists(path + folder_names[loop]):\n",
    "        #print(path + folder_names[loop])\n",
    "        os.makedirs(path + folder_names[loop])\n",
    "\n",
    "\n",
    "for file in file_name:\n",
    "    if \".csv\" in file and not os.path.exists(path + \"csv files/\" + file):\n",
    "        shutil.move(path + file, path + \"csv files/\" + file)\n",
    "    elif \".png\" in file and not os.path.exists(path + \"image files/\" + file):\n",
    "        shutil.move(path + file, path + \"image files/\" + file)\n",
    "    elif \".jpg\" in file and not os.path.exists(path + \"image files/\" + file):\n",
    "        shutil.move(path + file, path + \"image files/\" + file)\n",
    "    elif \".txt\" in file and not os.path.exists(path + \"text files/\" + file):\n",
    "        shutil.move(path + file, path + \"text files/\" + file)\n",
    "    #else:\n",
    "        #print(\"Unable to move files! check file type and try again.\")"
   ]
  },
  {
   "cell_type": "code",
   "execution_count": null,
   "id": "e397a456",
   "metadata": {},
   "outputs": [],
   "source": []
  }
 ],
 "metadata": {
  "kernelspec": {
   "display_name": "Python 3 (ipykernel)",
   "language": "python",
   "name": "python3"
  },
  "language_info": {
   "codemirror_mode": {
    "name": "ipython",
    "version": 3
   },
   "file_extension": ".py",
   "mimetype": "text/x-python",
   "name": "python",
   "nbconvert_exporter": "python",
   "pygments_lexer": "ipython3",
   "version": "3.11.5"
  }
 },
 "nbformat": 4,
 "nbformat_minor": 5
}
